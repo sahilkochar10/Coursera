{
 "cells": [
  {
   "cell_type": "markdown",
   "id": "ef3e4bb6-3268-4c1e-a7a7-c2ec9cbd2676",
   "metadata": {},
   "source": [
    "# Data Science Tools and Ecosystem"
   ]
  },
  {
   "cell_type": "markdown",
   "id": "149eca8c-e9da-4127-b9ff-fee01e3b7a49",
   "metadata": {},
   "source": [
    "In this notebook, Data Science Tools and Ecosystem are summarized."
   ]
  },
  {
   "cell_type": "markdown",
   "id": "997972a2-c602-48f0-86d4-f13a955e8582",
   "metadata": {},
   "source": [
    "**Objectives:**\n",
    "* Python\n",
    "* Arithmetic Expressions\n",
    "* Data Scince\n",
    "* Libraries"
   ]
  },
  {
   "cell_type": "markdown",
   "id": "90c0ec63-82c4-43a4-ae7d-c0ded7b941d0",
   "metadata": {},
   "source": [
    "Some of the popular languages that Data Scientists use are:\n",
    "1. Python\n",
    "2. R\n",
    "3. SQL"
   ]
  },
  {
   "cell_type": "markdown",
   "id": "bd0eef05-ce96-4878-8048-efd69c8440f6",
   "metadata": {},
   "source": [
    "Some of the commonly used libraries used by Data Scientists include:\n",
    "1. NumPy\n",
    "2. Pandas\n",
    "3. Seaborn\n"
   ]
  },
  {
   "cell_type": "markdown",
   "id": "3094e78c-06a8-4dcd-98a8-7cd52829853f",
   "metadata": {},
   "source": [
    "| Data Science Tools |\n",
    "| -------------| \n",
    "| Apache Spark |\n",
    "| Scikit-learn |\n",
    "| Tensorflow |"
   ]
  },
  {
   "cell_type": "markdown",
   "id": "0775cf9a-b8fc-4b57-bafc-38b420652e48",
   "metadata": {},
   "source": [
    "### Below are a few examples of evaluating arithmetic expressions in Python"
   ]
  },
  {
   "cell_type": "code",
   "execution_count": 12,
   "id": "f7c69481-26ba-4c72-b704-25247e0aaa5d",
   "metadata": {},
   "outputs": [
    {
     "data": {
      "text/plain": [
       "17"
      ]
     },
     "execution_count": 12,
     "metadata": {},
     "output_type": "execute_result"
    }
   ],
   "source": [
    "#This a simple arithmetic expression to mutiply then add integers\n",
    "(3*4)+5"
   ]
  },
  {
   "cell_type": "code",
   "execution_count": 14,
   "id": "e925a6eb-de8b-462e-bf26-0a7d9e60601f",
   "metadata": {},
   "outputs": [
    {
     "data": {
      "text/plain": [
       "3.3333333333333335"
      ]
     },
     "execution_count": 14,
     "metadata": {},
     "output_type": "execute_result"
    }
   ],
   "source": [
    "#This will convert 200 minutes to hours by diving by 60\n",
    "(200/60)"
   ]
  },
  {
   "cell_type": "markdown",
   "id": "6cdffa46-a4ea-449b-b34b-fc094fc7706b",
   "metadata": {},
   "source": [
    "## Author\n",
    "Sahil Kochar"
   ]
  },
  {
   "cell_type": "code",
   "execution_count": null,
   "id": "bcd41f02-12e1-4d62-9d24-e45b2cc17691",
   "metadata": {},
   "outputs": [],
   "source": []
  }
 ],
 "metadata": {
  "kernelspec": {
   "display_name": "Python 3 (ipykernel)",
   "language": "python",
   "name": "python3"
  },
  "language_info": {
   "codemirror_mode": {
    "name": "ipython",
    "version": 3
   },
   "file_extension": ".py",
   "mimetype": "text/x-python",
   "name": "python",
   "nbconvert_exporter": "python",
   "pygments_lexer": "ipython3",
   "version": "3.11.7"
  }
 },
 "nbformat": 4,
 "nbformat_minor": 5
}
